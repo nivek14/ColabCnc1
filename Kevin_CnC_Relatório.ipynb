{
  "nbformat": 4,
  "nbformat_minor": 0,
  "metadata": {
    "colab": {
      "name": "Kevin_CnC_Relatório",
      "provenance": [],
      "collapsed_sections": [],
      "authorship_tag": "ABX9TyOuyqIFtCDtUxOt3I2OLbJG",
      "include_colab_link": true
    },
    "kernelspec": {
      "name": "python3",
      "display_name": "Python 3"
    }
  },
  "cells": [
    {
      "cell_type": "markdown",
      "metadata": {
        "id": "view-in-github",
        "colab_type": "text"
      },
      "source": [
        "<a href=\"https://colab.research.google.com/github/nivek14/ColabCnc1/blob/master/Kevin_CnC_Relat%C3%B3rio.ipynb\" target=\"_parent\"><img src=\"https://colab.research.google.com/assets/colab-badge.svg\" alt=\"Open In Colab\"/></a>"
      ]
    },
    {
      "cell_type": "markdown",
      "metadata": {
        "id": "D1dT3_Eu7lLH",
        "colab_type": "text"
      },
      "source": [
        "Bissecção\n"
      ]
    },
    {
      "cell_type": "code",
      "metadata": {
        "id": "Ulxw9zdIn7hv",
        "colab_type": "code",
        "colab": {}
      },
      "source": [
        "import math\n",
        "\n",
        "e = 0.0000001\n",
        "a = 2\n",
        "b = 3\n",
        "aprox = 0\n",
        "\n",
        "def f(x):\n",
        "\t#return  -12 - (21 * x) + (18 * math.pow(x,2)) - (2.75 * math.pow(x,3)) # exercicio 1\n",
        "\t#return math.log(x*x) - 0.7 # exercicio 2\n",
        "\t#return math.pow(x,5) - ((10/3) * math.pow(x,3)) + ((5/21) * x) # (exercicio 5)\n",
        "\t#return  math.exp(-x**2) - math.cos(x)  # (exercicio 6a)\n",
        "\t#return  x**3 - x -1 # (exercicio 6b)\n",
        "\t#return\t4 * math.sin(x) - math.exp(x) # (exercicios 6c)\n",
        "\treturn\t(x * math.log(x)) - 1 # (exericicios 6d)\n",
        "\t\n",
        "\n",
        "def iteracao():\n",
        "\t\n",
        "\tglobal aprox,a,b\n",
        "\t\n",
        "\taprox = (a + b) / 2\n",
        "\t\t\t\n",
        "\tif((f(aprox) * f(a)) < 0):\n",
        "\t\tb = aprox\n",
        "\telse:\n",
        "\t\ta = aprox\n",
        "\t\t\n",
        "\tprint('Aproximação: {:.4f}'.format(aprox))\n",
        "\t#print('f(aproxi): {:.4f}'.format(f(aprox)))\n",
        "\t#print('Negativo: {:.4f}'.format(a))\n",
        "\t#print('Positivo: {:.4f}\\n'.format(b))\n",
        "\t\t\n",
        "\treturn aprox\n",
        "\t\n",
        "\n",
        "def bisseccao():\n",
        "\t\n",
        "\tglobal aprox,a,b\n",
        "\t\n",
        "\tfunA = f(a)\n",
        "\tfunB = f(b)\n",
        "\n",
        "\t#print('f(a) = {:4f}'.format(funA))\n",
        "\t#print('f(b) = {:4f}\\n'.format(funB))\n",
        "\t\n",
        "\taprox = iteracao()\n",
        "\ti = 1\n",
        "\twhile(abs(f(aprox)) >= e):\n",
        "\t\taprox = iteracao()\n",
        "\t\ti += 1\n",
        "\t\tif(i == 15):\n",
        "\t\t\tbreak\n",
        "\t\t\n",
        "\tprint('Numero de iteracoes: {:d}'.format(i))\n",
        "\t\n",
        "bisseccao()\n"
      ],
      "execution_count": null,
      "outputs": []
    },
    {
      "cell_type": "markdown",
      "metadata": {
        "id": "ueQ-BsI77sq4",
        "colab_type": "text"
      },
      "source": [
        "Falsa Posição"
      ]
    },
    {
      "cell_type": "code",
      "metadata": {
        "id": "XR4FMV0_n7yi",
        "colab_type": "code",
        "colab": {}
      },
      "source": [
        "import math\n",
        "\n",
        "e = 0.0000001\n",
        "a = 2\n",
        "b = 3\n",
        "aprox = 0\n",
        "\n",
        "def f(x):\n",
        "\t#return  -12 - (21 * x) + (18 * math.pow(x,2)) - (2.75 * math.pow(x,3)) # exercicio 1\n",
        "\t#return math.log(x*x) - 0.7 # exercicio 2\n",
        "\t#return math.pow(x,5) - ((10/3) * math.pow(x,3)) + ((5/21) * x) # (exercicio 5)\n",
        "\t#return math.exp(-x**2) - math.cos(x) # (exercicio 6a)\n",
        "\t#return  x**3 - x -1 # (exercicio 6b)\n",
        "\t#return\t4 * math.sin(x) - math.exp(x) # (exercicios 6c)\n",
        "\treturn\tx * math.log(x) - 1 # (exericicios 6d)\n",
        "\n",
        "def iteracao():\n",
        "\t\n",
        "\tglobal aprox,a,b\n",
        "\t\n",
        "\taprox = ((a * f(b)) - (b * f(a))) / (f(b) - f(a))\n",
        "\t\t\t\n",
        "\tif((f(aprox) * f(a)) < 0):\n",
        "\t\tb = aprox\n",
        "\telse:\n",
        "\t\ta = aprox\n",
        "\t\t\n",
        "\tprint('Aproximação: {:.6f}'.format(aprox))\n",
        "\t#print('f(aproxi): {:.4f}'.format(f(aprox)))\n",
        "\t#print('Negativo: {:.4f}'.format(a))\n",
        "\t#print('Positivo: {:.4f}\\n'.format(b))\n",
        "\t\t\n",
        "\treturn aprox\n",
        "\t\n",
        "\n",
        "def FalsaPos():\n",
        "\t\n",
        "\tglobal aprox,a,b\n",
        "\t\n",
        "\tfunA = f(a)\n",
        "\tfunB = f(b)\n",
        "\n",
        "\t#print('f(a) = {:4f}'.format(funA))\n",
        "\t#print('f(b) = {:4f}\\n'.format(funB))\n",
        "\t\n",
        "\taprox = iteracao()\n",
        "\ti = 1\n",
        "\twhile(abs(f(aprox)) >= e):\n",
        "\t\taprox = iteracao()\n",
        "\t\ti += 1\n",
        "\t\t#if(i == 3):\n",
        "\t\t\t#break\n",
        "\t\t\n",
        "\tprint('Numero de iteracoes: {:d}'.format(i))\n",
        "\t\n",
        "FalsaPos()\n"
      ],
      "execution_count": null,
      "outputs": []
    },
    {
      "cell_type": "markdown",
      "metadata": {
        "id": "T0-gLksz7yJ3",
        "colab_type": "text"
      },
      "source": [
        "Tangente"
      ]
    },
    {
      "cell_type": "code",
      "metadata": {
        "id": "awMPRj7an76Z",
        "colab_type": "code",
        "colab": {}
      },
      "source": [
        "import math\n",
        "\n",
        "# dados relacionados a iteração do algoritmo\n",
        "x0 = 2.5\n",
        "aprox = x0\n",
        "e = 0.0000001\n",
        "i = 0\n",
        "\n",
        "# derivada dos exercicios (colocar na funcao derivada())\n",
        "# (3 * math.pow(x,2)) - 9 (slide)\n",
        "# (6 * math.pow(x,2)) + (1 / x) (slide)\n",
        "# (2.85 * math.pow(x,2)) - (11.8 * x) + 10.9 (exercicio 3)\n",
        "\n",
        "def f(x):\n",
        "    #return (0.95 * math.pow(x,3)) - (5.9 * math.pow(x,2)) + (10.9 * x) - 6 # (exercicio 3)\n",
        "    #return (8 * math.sin(x)) * (math.e**(-x)) - 1 # (exercicio 4)\n",
        "    #return math.pow(x,5) - ((10/3) * math.pow(x,3)) + ((5/21) * x) # (exercicio 5)\n",
        "    #return math.exp(-x**2) - math.cos(x) # (exercicio 6a)\n",
        "    #return  x**3 - x -1 # (exercicio 6b)\n",
        "    #return\t4 * math.sin(x) - math.exp(x) # (exercicios 6c)\n",
        "\treturn\tx * math.log(x) - 1 # (exericicios 6d)\n",
        "\n",
        "\n",
        "def derivada(x):\n",
        "\t  #return (2.85 * math.pow(x,2)) - (11.8 * x) + 10.9 # (exercicio 3)\n",
        "    #return ((-8 * math.e**(-x)) * math.sin(x)) + ((8 * math.e**(-x)) * math.cos(x)) # (exercicio 4)\n",
        "    #return (5 * math.pow(x,4)) - (10 * math.pow(x,2)) + (5 / 21) # (exercicio 5)\n",
        "    #return ((-2*math.exp(-x**2))*x) + math.sin(x) # (exercicio 6a)\n",
        "    #return 3*x**2 - 1 # (exercicio 6b)\n",
        "    #return -math.exp(x) + 4*math.cos(x) # (exercicio 6c)\n",
        "    return 1/math.log(10) + math.log(x) # (exercicio 6d)\n",
        "\n",
        "def iteracao():\n",
        "    \n",
        "    global aprox\n",
        "\n",
        "    aprox = aprox - (f(aprox) / derivada(aprox))\n",
        "    print('Aproximação: {:.6f}'.format(aprox))\n",
        "    #print('|f(x)|: {:.6f}\\n'.format(f(aprox)))\n",
        "\n",
        "    return aprox\n",
        "\n",
        "\n",
        "def newtonR():\n",
        "\n",
        "    global i,aprox,e\n",
        "\n",
        "    # primeira iteração\n",
        "    #print('Iteracao[{:d}]'.format(i))\n",
        "    print('Aproximação: {:.6f}'.format(aprox))\n",
        "    #print('|f(x)|: {:.6f}\\n'.format(f(aprox)))\n",
        "\n",
        "    i = 1\n",
        "    while(abs(f(aprox)) >= e):\n",
        "        #print('Iteracao[{:d}]'.format(i))\n",
        "        aprox = iteracao()\n",
        "        i += 1\n",
        "        #if(i == 3):\n",
        "            #break\n",
        "\n",
        "    print('Numero de iteracoes: {:d}'.format(i))\n",
        "\n",
        "\n",
        "newtonR()\n"
      ],
      "execution_count": null,
      "outputs": []
    },
    {
      "cell_type": "markdown",
      "metadata": {
        "id": "evmzNYlc711r",
        "colab_type": "text"
      },
      "source": [
        "Secante"
      ]
    },
    {
      "cell_type": "code",
      "metadata": {
        "id": "pn3OaUP2n8EY",
        "colab_type": "code",
        "colab": {}
      },
      "source": [
        "import math\n",
        "\n",
        "# dados relacionados a iteração do algoritmo\n",
        "x0 = 2\n",
        "x1 = 3\n",
        "e = 0.0000001\n",
        "i = 0\n",
        "\n",
        "def f(x):\n",
        "    #return (0.95 * math.pow(x,3)) - (5.9 * math.pow(x,2)) + (10.9 * x) - 6 # (exercicio 3)\n",
        "    #return (8 * math.sin(x)) * (math.exp(-x)) - 1 # (exercicio 4)\n",
        "    #return math.pow(x,5) - ((10/3) * math.pow(x,3)) + ((5/21) * x) # (exercicio 5)\n",
        "    #return math.exp(-x**2) - math.cos(x) # (exercicio 6a)\n",
        "    #return  x**3 - x -1 # (exercicio 6b)\n",
        "    #return\t4 * math.sin(x) - math.exp(x) # (exercicios 6c)\n",
        "\treturn\tx * math.log(x) - 1 # (exericicios 6d)\n",
        "    \n",
        "\n",
        "def iteracao():\n",
        "    \n",
        "    global x0,x1\n",
        "\n",
        "    aux = x1\n",
        "\n",
        "    x1 = x1 - ((f(x1) * (x1 - x0)) / ((f(x1) - f(x0))))\n",
        "\n",
        "    x0 = aux\n",
        "\n",
        "    print('Aproximação: {:.6f}'.format(x1))\n",
        "\n",
        "    return x1\n",
        "\n",
        "\n",
        "def secante():\n",
        "\n",
        "    global i,e,x0,x1\n",
        "\n",
        "    aprox = x0\n",
        "    \n",
        "    while(abs(f(aprox)) >= e):\n",
        "        #print('Iteracao[{:d}]'.format(i))\n",
        "        aprox = iteracao()\n",
        "        i += 1\n",
        "        #if(i == 3):\n",
        "            #break\n",
        "\n",
        "    print('Numero de iteracoes: {:d}'.format(i))\n",
        "\n",
        "\n",
        "secante()\n"
      ],
      "execution_count": null,
      "outputs": []
    },
    {
      "cell_type": "markdown",
      "metadata": {
        "id": "bss-ykaH76Fx",
        "colab_type": "text"
      },
      "source": [
        "Gráficos\n"
      ]
    },
    {
      "cell_type": "code",
      "metadata": {
        "id": "ZyQfsWxS5RVl",
        "colab_type": "code",
        "colab": {}
      },
      "source": [
        "import matplotlib.pyplot as plt\n",
        "import numpy as np\n",
        "import math"
      ],
      "execution_count": null,
      "outputs": []
    },
    {
      "cell_type": "code",
      "metadata": {
        "id": "8alz8pSS9EFy",
        "colab_type": "code",
        "colab": {}
      },
      "source": [
        "f_x3a = lambda x: (0.95 * x**3) - (5.9 * x**2) + (10.9 * x) - 6\n",
        "f_x4a = lambda x: (8 * math.sin(x)) * (math.e**(-x)) - 1\n",
        "f_x5a = lambda x: math.pow(x,5) - ((10/3) * math.pow(x,3)) + ((5/21) * x)"
      ],
      "execution_count": null,
      "outputs": []
    },
    {
      "cell_type": "code",
      "metadata": {
        "id": "BrVsAJdB9ihg",
        "colab_type": "code",
        "colab": {}
      },
      "source": [
        "# para questão 3\n",
        "inicio_3a = 2.5\n",
        "fim_3a = 3.5\n",
        "\n",
        "# para questão 4\n",
        "inicio_4a = 0.5\n",
        "fim_4a = 0.4\n",
        "\n",
        "# para questão 5\n",
        "inicio_x1 = -1\n",
        "fim_x1 = -0.75\n",
        "\n",
        "inicio_x2 = -0.75\n",
        "fim_x2 = -0.25\n",
        "\n",
        "inicio_x3 = -0.25\n",
        "fim_x3 = 0.25\n",
        "\n",
        "inicio_x4 = 0.3\n",
        "fim_x4 = 0.8\n",
        "\n",
        "inicio_x5 = 0.8\n",
        "fim_x5 = 1\n",
        "\n",
        "# mesma quantidade para todos os gráficos\n",
        "pontos = 100"
      ],
      "execution_count": null,
      "outputs": []
    },
    {
      "cell_type": "code",
      "metadata": {
        "id": "NGZABLR1952X",
        "colab_type": "code",
        "colab": {
          "base_uri": "https://localhost:8080/",
          "height": 295
        },
        "outputId": "96e68231-46a2-4e04-eaac-ccbfa51afdfe"
      },
      "source": [
        "curva = np.linspace(inicio_3a,fim_3a,pontos)\n",
        "\n",
        "valores = [f_x3a(valor) for valor in curva]\n",
        "\n",
        "plt.plot(curva,valores,linestyle='-')\n",
        "\n",
        "plt.xlabel('x')\n",
        "plt.ylabel('f(x)')\n",
        "plt.title('Questão 3a')\n",
        "plt.grid()\n",
        "plt.show()"
      ],
      "execution_count": null,
      "outputs": [
        {
          "output_type": "display_data",
          "data": {
            "image/png": "[encoded data removed]",
            "text/plain": [
              "<Figure size 432x288 with 1 Axes>"
            ]
          },
          "metadata": {
            "tags": [],
            "needs_background": "light"
          }
        }
      ]
    },
    {
      "cell_type": "code",
      "metadata": {
        "id": "RVPhkMGgEBlW",
        "colab_type": "code",
        "colab": {
          "base_uri": "https://localhost:8080/",
          "height": 295
        },
        "outputId": "0b199b39-ebdc-4ee5-bc37-89afe6c0d097"
      },
      "source": [
        "curva = np.linspace(inicio_4a,fim_4a,pontos)\n",
        "\n",
        "valores = [f_x4a(valor) for valor in curva]\n",
        "\n",
        "plt.plot(curva,valores,linestyle='-')\n",
        "\n",
        "plt.xlabel('x')\n",
        "plt.ylabel('f(x)')\n",
        "plt.title('Questão 4a')\n",
        "plt.grid()\n",
        "plt.show()"
      ],
      "execution_count": null,
      "outputs": [
        {
          "output_type": "display_data",
          "data": {
            "image/png": "[encoded data removed]",
            "text/plain": [
              "<Figure size 432x288 with 1 Axes>"
            ]
          },
          "metadata": {
            "tags": [],
            "needs_background": "light"
          }
        }
      ]
    },
    {
      "cell_type": "code",
      "metadata": {
        "id": "85Q7y_L9R_5A",
        "colab_type": "code",
        "colab": {
          "base_uri": "https://localhost:8080/",
          "height": 295
        },
        "outputId": "644aeb38-2bbc-4ff5-e680-968cf2a31e91"
      },
      "source": [
        "curva = np.linspace(inicio_x1,fim_x1,pontos)\n",
        "\n",
        "valores = [f_x5a(valor) for valor in curva]\n",
        "\n",
        "plt.plot(curva,valores,linestyle='-')\n",
        "\n",
        "plt.xlabel('x')\n",
        "plt.ylabel('f(x)')\n",
        "plt.title('Questão 5a / x{:d} '.format(i))\n",
        "plt.grid()\n",
        "plt.show()\n"
      ],
      "execution_count": null,
      "outputs": [
        {
          "output_type": "display_data",
          "data": {
            "image/png": "[encoded data removed]",
            "text/plain": [
              "<Figure size 432x288 with 1 Axes>"
            ]
          },
          "metadata": {
            "tags": [],
            "needs_background": "light"
          }
        }
      ]
    },
    {
      "cell_type": "code",
      "metadata": {
        "id": "9UqfiCWDVYJW",
        "colab_type": "code",
        "colab": {
          "base_uri": "https://localhost:8080/",
          "height": 295
        },
        "outputId": "2336d827-08a2-4545-8167-24650499c3f9"
      },
      "source": [
        "curva = np.linspace(inicio_x2,fim_x2,pontos)\n",
        "\n",
        "valores = [f_x5a(valor) for valor in curva]\n",
        "\n",
        "plt.plot(curva,valores,linestyle='-')\n",
        "\n",
        "plt.xlabel('x')\n",
        "plt.ylabel('f(x)')\n",
        "plt.title('Questão 5a / x2')\n",
        "plt.grid()\n",
        "plt.show()\n"
      ],
      "execution_count": null,
      "outputs": [
        {
          "output_type": "display_data",
          "data": {
            "image/png": "[encoded data removed]",
            "text/plain": [
              "<Figure size 432x288 with 1 Axes>"
            ]
          },
          "metadata": {
            "tags": [],
            "needs_background": "light"
          }
        }
      ]
    },
    {
      "cell_type": "code",
      "metadata": {
        "id": "GH1tll1WVdqS",
        "colab_type": "code",
        "colab": {
          "base_uri": "https://localhost:8080/",
          "height": 295
        },
        "outputId": "89cb0aa2-b580-445c-ac5b-d33650fda672"
      },
      "source": [
        "curva = np.linspace(inicio_x3,fim_x3,pontos)\n",
        "\n",
        "valores = [f_x5a(valor) for valor in curva]\n",
        "\n",
        "plt.plot(curva,valores,linestyle='-')\n",
        "\n",
        "plt.xlabel('x')\n",
        "plt.ylabel('f(x)')\n",
        "plt.title('Questão 5a / x3')\n",
        "plt.grid()\n",
        "plt.show()\n"
      ],
      "execution_count": null,
      "outputs": [
        {
          "output_type": "display_data",
          "data": {
            "image/png": "[encoded data removed]",
            "text/plain": [
              "<Figure size 432x288 with 1 Axes>"
            ]
          },
          "metadata": {
            "tags": [],
            "needs_background": "light"
          }
        }
      ]
    },
    {
      "cell_type": "code",
      "metadata": {
        "id": "TL5FxE0SVxTN",
        "colab_type": "code",
        "colab": {
          "base_uri": "https://localhost:8080/",
          "height": 295
        },
        "outputId": "63c988ec-47f3-4f88-fe65-592eba2ecade"
      },
      "source": [
        "curva = np.linspace(inicio_x4,fim_x4,pontos)\n",
        "\n",
        "valores = [f_x5a(valor) for valor in curva]\n",
        "\n",
        "plt.plot(curva,valores,linestyle='-')\n",
        "\n",
        "plt.xlabel('x')\n",
        "plt.ylabel('f(x)')\n",
        "plt.title('Questão 5a / x4')\n",
        "plt.grid()\n",
        "plt.show()\n"
      ],
      "execution_count": null,
      "outputs": [
        {
          "output_type": "display_data",
          "data": {
            "image/png": "[encoded data removed]",
            "text/plain": [
              "<Figure size 432x288 with 1 Axes>"
            ]
          },
          "metadata": {
            "tags": [],
            "needs_background": "light"
          }
        }
      ]
    },
    {
      "cell_type": "code",
      "metadata": {
        "id": "0OyfCTLVV1P1",
        "colab_type": "code",
        "colab": {
          "base_uri": "https://localhost:8080/",
          "height": 295
        },
        "outputId": "40eaf9c6-f740-4f1a-b597-4649d5987645"
      },
      "source": [
        "curva = np.linspace(inicio_x5,fim_x5,pontos)\n",
        "\n",
        "valores = [f_x5a(valor) for valor in curva]\n",
        "\n",
        "plt.plot(curva,valores,linestyle='-')\n",
        "\n",
        "plt.xlabel('x')\n",
        "plt.ylabel('f(x)')\n",
        "plt.title('Questão 5a / x5')\n",
        "plt.grid()\n",
        "plt.show()\n"
      ],
      "execution_count": null,
      "outputs": [
        {
          "output_type": "display_data",
          "data": {
            "image/png": "[encoded data removed]",
            "text/plain": [
              "<Figure size 432x288 with 1 Axes>"
            ]
          },
          "metadata": {
            "tags": [],
            "needs_background": "light"
          }
        }
      ]
    }
  ]
}